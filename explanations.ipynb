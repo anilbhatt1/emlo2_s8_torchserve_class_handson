{
 "cells": [
  {
   "cell_type": "code",
   "execution_count": 1,
   "metadata": {},
   "outputs": [
    {
     "data": {
      "text/plain": [
       "{'zero': 0.9993141889572144,\n",
       " 'two': 0.00015182483184617013,\n",
       " 'seven': 0.00014243416080716997,\n",
       " 'six': 0.00012793325004167855,\n",
       " 'five': 9.596013114787638e-05}"
      ]
     },
     "execution_count": 1,
     "metadata": {},
     "output_type": "execute_result"
    }
   ],
   "source": [
    "import requests\n",
    "res = requests.post(\"http://localhost:8080/predictions/mnist/1.0\", files={'data': open('mnist_images/0.png', 'rb')})\n",
    "res.json()"
   ]
  },
  {
   "cell_type": "code",
   "execution_count": null,
   "metadata": {},
   "outputs": [],
   "source": [
    "res = requests.post(\"http://localhost:8080/explanations/mnist/1.0\", files={'data': open('mnist_images/0.png', 'rb')})\n",
    "ig = res.json()\n",
    "ig"
   ]
  },
  {
   "cell_type": "code",
   "execution_count": null,
   "metadata": {},
   "outputs": [],
   "source": [
    "import torch\n",
    "import numpy as np\n",
    "import torchvision.transforms as T\n",
    "from PIL import Image\n",
    "from captum.attr import visualization as viz"
   ]
  },
  {
   "cell_type": "code",
   "execution_count": null,
   "metadata": {},
   "outputs": [],
   "source": [
    "img_path = \"mnist_images/0.png\"\n",
    "\n",
    "inp_image = Image.open(img_path)\n",
    "to_tensor = T.Compose([\n",
    "\tT.Resize((28, 28)),\n",
    "\tT.ToTensor()\n",
    "])\n",
    "inp_image = to_tensor(inp_image)\n",
    "\n",
    "inp_image = inp_image.numpy()\n",
    "attributions = np.array(ig)\n",
    "\n",
    "inp_image, attributions = inp_image.transpose(1, 2, 0), attributions.transpose(1, 2, 0)\n",
    "inp_image.shape, attributions.shape"
   ]
  },
  {
   "cell_type": "code",
   "execution_count": null,
   "metadata": {},
   "outputs": [],
   "source": [
    "import matplotlib.pyplot as plt\n",
    "\n",
    "plt.imshow(inp_image, cmap=\"inferno\")"
   ]
  },
  {
   "cell_type": "code",
   "execution_count": null,
   "metadata": {},
   "outputs": [],
   "source": [
    "viz.visualize_image_attr(attributions, inp_image, method=\"blended_heat_map\",sign=\"all\", show_colorbar=True, title=\"Overlayed Integrated Gradients\")"
   ]
  }
 ],
 "metadata": {
  "kernelspec": {
   "display_name": "Python 3",
   "language": "python",
   "name": "python3"
  },
  "language_info": {
   "codemirror_mode": {
    "name": "ipython",
    "version": 3
   },
   "file_extension": ".py",
   "mimetype": "text/x-python",
   "name": "python",
   "nbconvert_exporter": "python",
   "pygments_lexer": "ipython3",
   "version": "3.10.12"
  }
 },
 "nbformat": 4,
 "nbformat_minor": 2
}
